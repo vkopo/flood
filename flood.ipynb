{
 "cells": [
  {
   "cell_type": "code",
   "execution_count": 51,
   "metadata": {},
   "outputs": [],
   "source": [
    "import os\n",
    "import re\n",
    "import zipfile\n",
    "import json\n",
    "import pandas as pd\n",
    "import math"
   ]
  },
  {
   "cell_type": "markdown",
   "metadata": {},
   "source": [
    "## Gather data from floods\n",
    "\n",
    "Each flood event in flood database consists of flood levels in a tif file and associated metadata in a json file.\n",
    "\n",
    "Flood data is downloadable with instructions from https://github.com/cloudtostreet/MODIS_GlobalFloodDatabase or as individual flood files from https://global-flood-database.cloudtostreet.ai/."
   ]
  },
  {
   "cell_type": "code",
   "execution_count": 48,
   "metadata": {},
   "outputs": [],
   "source": [
    "flood_db_path = 'flood_db\\\\gfd_v1_4'\n",
    "\n",
    "# Loads properties for a flood event\n",
    "def load_flood_properties(file):\n",
    "    with zipfile.ZipFile(file) as z:\n",
    "        json_file = [file_name for file_name in z.namelist() if 'json' in file_name]\n",
    "        with z.open(json_file[0]) as f:\n",
    "            data = f.read()\n",
    "            properties = json.loads(data)\n",
    "            properties['fname'] = file\n",
    "\n",
    "    return(properties)\n",
    "\n",
    "properties_list = [load_flood_properties(flood_db_path + '\\\\' + fname) for fname in os.listdir(flood_db_path)]\n",
    "properties = pd.DataFrame(properties_list)\n",
    "properties.to_csv('properties.tsv', sep = '\\t')"
   ]
  },
  {
   "cell_type": "markdown",
   "metadata": {},
   "source": [
    "## Estimate probability of capturing a flood\n",
    "\n",
    "Satellite on a polar orbit has a change of flying over a area that is tied to circumference of earth at the events latitude.\n",
    "\n",
    "A flood event is considered captured by satellite if floods centroid coordinates were within satellites swath width.\n",
    "\n",
    "Capture probability is calculated per cycle and probability each cycle is considered independent of each other. This seems appropriate as\n",
    "- We are considering a short time frame 24h even if given enough orbits satellite would deterministically scan any area.\n",
    "- Flood widths are small compared to distances between scans of consecutive orbits."
   ]
  },
  {
   "cell_type": "code",
   "execution_count": 61,
   "metadata": {},
   "outputs": [],
   "source": [
    "R = 6371\n",
    "cycle_days = 12\n",
    "orbits_per_cycle = 175\n",
    "\n",
    "def radius_at_lat(lat):\n",
    "    return math.sin(math.pi/2 - math.radians(lat)) * R\n",
    "\n",
    "def circumference_at_lat(lat):\n",
    "    r = radius_at_lat(lat)\n",
    "    return 2*math.pi*r\n",
    "\n",
    "def prob_per_orbit(lat, swath_width, flood_width=0):\n",
    "    circ = circumference_at_lat(lat)\n",
    "    if (circ == 0):\n",
    "        return(1)\n",
    "    if (swath_width + flood_width > circumference_at_lat(lat)):\n",
    "        return(1)\n",
    "\n",
    "    return (swath_width + flood_width) / circumference_at_lat(lat)\n",
    "\n",
    "def prob_per_timeframe(lat, swath_width, flood_width=0, time=24):\n",
    "    p = prob_per_orbit(lat, swath_width, flood_width)\n",
    "    orbits = orbits_per_cycle / cycle_days * 24 / time\n",
    "    return(1-pow(1-p, orbits))"
   ]
  },
  {
   "cell_type": "code",
   "execution_count": 63,
   "metadata": {},
   "outputs": [],
   "source": [
    "swath_width = 400\n",
    "properties['capture_p_in_24h'] = properties.apply(lambda x: prob_per_timeframe(x['dfo_centroid_y'], swath_width), axis=1)\n",
    "properties.to_csv('properties.tsv', sep = '\\t')"
   ]
  }
 ],
 "metadata": {
  "kernelspec": {
   "display_name": "Python 3",
   "language": "python",
   "name": "python3"
  },
  "language_info": {
   "codemirror_mode": {
    "name": "ipython",
    "version": 3
   },
   "file_extension": ".py",
   "mimetype": "text/x-python",
   "name": "python",
   "nbconvert_exporter": "python",
   "pygments_lexer": "ipython3",
   "version": "3.12.0"
  }
 },
 "nbformat": 4,
 "nbformat_minor": 2
}
