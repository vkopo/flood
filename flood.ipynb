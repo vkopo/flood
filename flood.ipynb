{
 "cells": [
  {
   "cell_type": "code",
   "execution_count": null,
   "metadata": {},
   "outputs": [],
   "source": [
    "import os\n",
    "import re\n",
    "import zipfile\n",
    "import json\n",
    "import pandas as pd"
   ]
  },
  {
   "cell_type": "code",
   "execution_count": 4,
   "metadata": {},
   "outputs": [],
   "source": [
    "flood_db_path = 'flood_db\\\\gfd_v1_4'\n",
    "\n",
    "# Loads properties for each flood event\n",
    "def load_flood_properties(file):\n",
    "    with zipfile.ZipFile(file) as z:\n",
    "        json_file = [file_name for file_name in z.namelist() if 'json' in file_name]\n",
    "        with z.open(json_file[0]) as f:\n",
    "            data = f.read()\n",
    "            d = json.loads(data)\n",
    "            d['fname'] = file\n",
    "    return(d)\n",
    "\n",
    "properties_list = [load_flood_properties(flood_db_path + '\\\\' + fname) for fname in os.listdir(flood_db_path)]\n",
    "properties = pd.DataFrame(properties_list)\n",
    "properties.to_csv('properties.tsv', sep = '\\t')"
   ]
  }
 ],
 "metadata": {
  "kernelspec": {
   "display_name": "Python 3",
   "language": "python",
   "name": "python3"
  },
  "language_info": {
   "codemirror_mode": {
    "name": "ipython",
    "version": 3
   },
   "file_extension": ".py",
   "mimetype": "text/x-python",
   "name": "python",
   "nbconvert_exporter": "python",
   "pygments_lexer": "ipython3",
   "version": "3.12.0"
  }
 },
 "nbformat": 4,
 "nbformat_minor": 2
}
